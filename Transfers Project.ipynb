{
 "cells": [
  {
   "attachments": {},
   "cell_type": "markdown",
   "id": "57a3a4f6",
   "metadata": {},
   "source": [
    "<h3>English Premier League Transfers EDA</h3>\n"
   ]
  },
  {
   "attachments": {},
   "cell_type": "markdown",
   "id": "409ae71a",
   "metadata": {},
   "source": [
    "Introduction\n",
    "\n",
    "<h6>\n",
    "In this project, I explore a dataset containing player transfers of the English Premier League from 1992 to 2022.\n",
    "I aim to uncover hidden patterns, get insights into the transfer market in english football, and how ot has eveolved over time\n",
    "\n",
    "The dataset was pulled from github at https://github.com/ewenme/transfers, it can also be found on Kaggle.\n",
    "\n",
    "\n",
    "The dataset contains the following fields:\n",
    "club name; \n",
    "player name;\n",
    "age; \n",
    "position; \n",
    "club_involved_name; \n",
    "fee; transfer fee\n",
    "transfer movement; \n",
    "transfer period;\n",
    "fee_cleaned; \n",
    "league_name; \n",
    "year; \n",
    "season;\n",
    "</h6>"
   ]
  },
  {
   "attachments": {},
   "cell_type": "markdown",
   "id": "fd7566a5",
   "metadata": {},
   "source": [
    "Importing required libraries"
   ]
  },
  {
   "cell_type": "code",
   "execution_count": 184,
   "id": "8a304d4b",
   "metadata": {},
   "outputs": [],
   "source": [
    "import glob\n",
    "import pandas as pd\n",
    "import re\n",
    "import matplotlib.pyplot as plt\n",
    "import numpy as np\n",
    "import seaborn as sns"
   ]
  },
  {
   "cell_type": "markdown",
   "id": "2ab017bc",
   "metadata": {},
   "source": [
    "Reading csv files"
   ]
  },
  {
   "cell_type": "code",
   "execution_count": 185,
   "id": "fce5c91a",
   "metadata": {},
   "outputs": [],
   "source": [
    "#getting path and csv files\n",
    "path = \"C:\\\\Users\\\\Fareed\\\\Downloads\\\\Main Footy Project\"\n",
    "\n",
    "#convert csv file to dataframe\n",
    "transfer = pd.read_csv('premier-league.csv')"
   ]
  },
  {
   "attachments": {},
   "cell_type": "markdown",
   "id": "588b7b21",
   "metadata": {},
   "source": [
    "Data Inspection"
   ]
  },
  {
   "cell_type": "code",
   "execution_count": 186,
   "id": "0658f0ef",
   "metadata": {},
   "outputs": [
    {
     "data": {
      "text/html": [
       "<div>\n",
       "<style scoped>\n",
       "    .dataframe tbody tr th:only-of-type {\n",
       "        vertical-align: middle;\n",
       "    }\n",
       "\n",
       "    .dataframe tbody tr th {\n",
       "        vertical-align: top;\n",
       "    }\n",
       "\n",
       "    .dataframe thead th {\n",
       "        text-align: right;\n",
       "    }\n",
       "</style>\n",
       "<table border=\"1\" class=\"dataframe\">\n",
       "  <thead>\n",
       "    <tr style=\"text-align: right;\">\n",
       "      <th></th>\n",
       "      <th>club_name</th>\n",
       "      <th>player_name</th>\n",
       "      <th>age</th>\n",
       "      <th>position</th>\n",
       "      <th>club_involved_name</th>\n",
       "      <th>fee</th>\n",
       "      <th>transfer_movement</th>\n",
       "      <th>transfer_period</th>\n",
       "      <th>fee_cleaned</th>\n",
       "      <th>league_name</th>\n",
       "      <th>year</th>\n",
       "      <th>season</th>\n",
       "    </tr>\n",
       "  </thead>\n",
       "  <tbody>\n",
       "    <tr>\n",
       "      <th>0</th>\n",
       "      <td>Middlesbrough FC</td>\n",
       "      <td>Tommy Wright</td>\n",
       "      <td>26.0</td>\n",
       "      <td>Left Winger</td>\n",
       "      <td>Leicester</td>\n",
       "      <td>€910Th.</td>\n",
       "      <td>in</td>\n",
       "      <td>Summer</td>\n",
       "      <td>0.91</td>\n",
       "      <td>Premier League</td>\n",
       "      <td>1992</td>\n",
       "      <td>1992/1993</td>\n",
       "    </tr>\n",
       "    <tr>\n",
       "      <th>1</th>\n",
       "      <td>Middlesbrough FC</td>\n",
       "      <td>Jonathan Gittens</td>\n",
       "      <td>28.0</td>\n",
       "      <td>defence</td>\n",
       "      <td>Southampton</td>\n",
       "      <td>€250Th.</td>\n",
       "      <td>in</td>\n",
       "      <td>Summer</td>\n",
       "      <td>0.25</td>\n",
       "      <td>Premier League</td>\n",
       "      <td>1992</td>\n",
       "      <td>1992/1993</td>\n",
       "    </tr>\n",
       "    <tr>\n",
       "      <th>2</th>\n",
       "      <td>Middlesbrough FC</td>\n",
       "      <td>Chris Morris</td>\n",
       "      <td>28.0</td>\n",
       "      <td>Right-Back</td>\n",
       "      <td>Celtic</td>\n",
       "      <td>?</td>\n",
       "      <td>in</td>\n",
       "      <td>Summer</td>\n",
       "      <td>NaN</td>\n",
       "      <td>Premier League</td>\n",
       "      <td>1992</td>\n",
       "      <td>1992/1993</td>\n",
       "    </tr>\n",
       "    <tr>\n",
       "      <th>3</th>\n",
       "      <td>Middlesbrough FC</td>\n",
       "      <td>Ben Roberts</td>\n",
       "      <td>17.0</td>\n",
       "      <td>Goalkeeper</td>\n",
       "      <td>Boro U18</td>\n",
       "      <td>-</td>\n",
       "      <td>in</td>\n",
       "      <td>Summer</td>\n",
       "      <td>NaN</td>\n",
       "      <td>Premier League</td>\n",
       "      <td>1992</td>\n",
       "      <td>1992/1993</td>\n",
       "    </tr>\n",
       "    <tr>\n",
       "      <th>4</th>\n",
       "      <td>Middlesbrough FC</td>\n",
       "      <td>Andy Todd</td>\n",
       "      <td>17.0</td>\n",
       "      <td>Centre-Back</td>\n",
       "      <td>Boro U18</td>\n",
       "      <td>-</td>\n",
       "      <td>in</td>\n",
       "      <td>Summer</td>\n",
       "      <td>NaN</td>\n",
       "      <td>Premier League</td>\n",
       "      <td>1992</td>\n",
       "      <td>1992/1993</td>\n",
       "    </tr>\n",
       "  </tbody>\n",
       "</table>\n",
       "</div>"
      ],
      "text/plain": [
       "          club_name       player_name   age     position club_involved_name  \\\n",
       "0  Middlesbrough FC      Tommy Wright  26.0  Left Winger          Leicester   \n",
       "1  Middlesbrough FC  Jonathan Gittens  28.0      defence        Southampton   \n",
       "2  Middlesbrough FC      Chris Morris  28.0   Right-Back             Celtic   \n",
       "3  Middlesbrough FC       Ben Roberts  17.0   Goalkeeper           Boro U18   \n",
       "4  Middlesbrough FC         Andy Todd  17.0  Centre-Back           Boro U18   \n",
       "\n",
       "       fee transfer_movement transfer_period  fee_cleaned     league_name  \\\n",
       "0  €910Th.                in          Summer         0.91  Premier League   \n",
       "1  €250Th.                in          Summer         0.25  Premier League   \n",
       "2        ?                in          Summer          NaN  Premier League   \n",
       "3        -                in          Summer          NaN  Premier League   \n",
       "4        -                in          Summer          NaN  Premier League   \n",
       "\n",
       "   year     season  \n",
       "0  1992  1992/1993  \n",
       "1  1992  1992/1993  \n",
       "2  1992  1992/1993  \n",
       "3  1992  1992/1993  \n",
       "4  1992  1992/1993  "
      ]
     },
     "execution_count": 186,
     "metadata": {},
     "output_type": "execute_result"
    }
   ],
   "source": [
    "transfer.head()"
   ]
  },
  {
   "cell_type": "code",
   "execution_count": 187,
   "id": "00d02466",
   "metadata": {},
   "outputs": [
    {
     "data": {
      "text/plain": [
       "(23498, 12)"
      ]
     },
     "execution_count": 187,
     "metadata": {},
     "output_type": "execute_result"
    }
   ],
   "source": [
    "transfer.shape"
   ]
  },
  {
   "cell_type": "code",
   "execution_count": 188,
   "id": "8fee6220",
   "metadata": {},
   "outputs": [
    {
     "data": {
      "text/html": [
       "<div>\n",
       "<style scoped>\n",
       "    .dataframe tbody tr th:only-of-type {\n",
       "        vertical-align: middle;\n",
       "    }\n",
       "\n",
       "    .dataframe tbody tr th {\n",
       "        vertical-align: top;\n",
       "    }\n",
       "\n",
       "    .dataframe thead th {\n",
       "        text-align: right;\n",
       "    }\n",
       "</style>\n",
       "<table border=\"1\" class=\"dataframe\">\n",
       "  <thead>\n",
       "    <tr style=\"text-align: right;\">\n",
       "      <th></th>\n",
       "      <th>age</th>\n",
       "      <th>fee_cleaned</th>\n",
       "      <th>year</th>\n",
       "    </tr>\n",
       "  </thead>\n",
       "  <tbody>\n",
       "    <tr>\n",
       "      <th>count</th>\n",
       "      <td>23483.000000</td>\n",
       "      <td>8972.000000</td>\n",
       "      <td>23498.000000</td>\n",
       "    </tr>\n",
       "    <tr>\n",
       "      <th>mean</th>\n",
       "      <td>24.168335</td>\n",
       "      <td>4.320695</td>\n",
       "      <td>2008.018640</td>\n",
       "    </tr>\n",
       "    <tr>\n",
       "      <th>std</th>\n",
       "      <td>4.818588</td>\n",
       "      <td>9.470622</td>\n",
       "      <td>8.096778</td>\n",
       "    </tr>\n",
       "    <tr>\n",
       "      <th>min</th>\n",
       "      <td>15.000000</td>\n",
       "      <td>0.000000</td>\n",
       "      <td>1992.000000</td>\n",
       "    </tr>\n",
       "    <tr>\n",
       "      <th>25%</th>\n",
       "      <td>20.000000</td>\n",
       "      <td>0.000000</td>\n",
       "      <td>2002.000000</td>\n",
       "    </tr>\n",
       "    <tr>\n",
       "      <th>50%</th>\n",
       "      <td>23.000000</td>\n",
       "      <td>0.750000</td>\n",
       "      <td>2008.000000</td>\n",
       "    </tr>\n",
       "    <tr>\n",
       "      <th>75%</th>\n",
       "      <td>27.000000</td>\n",
       "      <td>4.200000</td>\n",
       "      <td>2015.000000</td>\n",
       "    </tr>\n",
       "    <tr>\n",
       "      <th>max</th>\n",
       "      <td>47.000000</td>\n",
       "      <td>135.000000</td>\n",
       "      <td>2022.000000</td>\n",
       "    </tr>\n",
       "  </tbody>\n",
       "</table>\n",
       "</div>"
      ],
      "text/plain": [
       "                age  fee_cleaned          year\n",
       "count  23483.000000  8972.000000  23498.000000\n",
       "mean      24.168335     4.320695   2008.018640\n",
       "std        4.818588     9.470622      8.096778\n",
       "min       15.000000     0.000000   1992.000000\n",
       "25%       20.000000     0.000000   2002.000000\n",
       "50%       23.000000     0.750000   2008.000000\n",
       "75%       27.000000     4.200000   2015.000000\n",
       "max       47.000000   135.000000   2022.000000"
      ]
     },
     "execution_count": 188,
     "metadata": {},
     "output_type": "execute_result"
    }
   ],
   "source": [
    "transfer.describe()"
   ]
  },
  {
   "cell_type": "code",
   "execution_count": 189,
   "id": "c44bca7b",
   "metadata": {},
   "outputs": [
    {
     "name": "stdout",
     "output_type": "stream",
     "text": [
      "<class 'pandas.core.frame.DataFrame'>\n",
      "RangeIndex: 23498 entries, 0 to 23497\n",
      "Data columns (total 12 columns):\n",
      " #   Column              Non-Null Count  Dtype  \n",
      "---  ------              --------------  -----  \n",
      " 0   club_name           23498 non-null  object \n",
      " 1   player_name         23498 non-null  object \n",
      " 2   age                 23483 non-null  float64\n",
      " 3   position            23498 non-null  object \n",
      " 4   club_involved_name  23498 non-null  object \n",
      " 5   fee                 23494 non-null  object \n",
      " 6   transfer_movement   23498 non-null  object \n",
      " 7   transfer_period     23498 non-null  object \n",
      " 8   fee_cleaned         8972 non-null   float64\n",
      " 9   league_name         23498 non-null  object \n",
      " 10  year                23498 non-null  int64  \n",
      " 11  season              23498 non-null  object \n",
      "dtypes: float64(2), int64(1), object(9)\n",
      "memory usage: 2.2+ MB\n"
     ]
    }
   ],
   "source": [
    "transfer.info()"
   ]
  },
  {
   "attachments": {},
   "cell_type": "markdown",
   "id": "4748e64f",
   "metadata": {},
   "source": [
    "<h4>Data Cleaning </h4>"
   ]
  },
  {
   "attachments": {},
   "cell_type": "markdown",
   "id": "286faf49",
   "metadata": {},
   "source": [
    "<h6>\n",
    "Possible Issues:\n",
    "- Duplicates\n",
    "- Null issues - fee column -  4 nulls, \n",
    "                age col - 15 nulls, \n",
    "                fee_cleaned column has too many nulls 14,526 nulls\n",
    "- Three transfer_periods(summer, Summer, winter) \n",
    "</h6>\n"
   ]
  },
  {
   "cell_type": "code",
   "execution_count": 190,
   "id": "446c95c9",
   "metadata": {},
   "outputs": [
    {
     "data": {
      "text/plain": [
       "26"
      ]
     },
     "execution_count": 190,
     "metadata": {},
     "output_type": "execute_result"
    }
   ],
   "source": [
    "#checking for duplicates\n",
    "transfer.duplicated(keep = False).sum()"
   ]
  },
  {
   "cell_type": "code",
   "execution_count": 191,
   "id": "35ab8370",
   "metadata": {},
   "outputs": [
    {
     "data": {
      "text/html": [
       "<div>\n",
       "<style scoped>\n",
       "    .dataframe tbody tr th:only-of-type {\n",
       "        vertical-align: middle;\n",
       "    }\n",
       "\n",
       "    .dataframe tbody tr th {\n",
       "        vertical-align: top;\n",
       "    }\n",
       "\n",
       "    .dataframe thead th {\n",
       "        text-align: right;\n",
       "    }\n",
       "</style>\n",
       "<table border=\"1\" class=\"dataframe\">\n",
       "  <thead>\n",
       "    <tr style=\"text-align: right;\">\n",
       "      <th></th>\n",
       "      <th>club_name</th>\n",
       "      <th>player_name</th>\n",
       "      <th>age</th>\n",
       "      <th>position</th>\n",
       "      <th>club_involved_name</th>\n",
       "      <th>fee</th>\n",
       "      <th>transfer_movement</th>\n",
       "      <th>transfer_period</th>\n",
       "      <th>fee_cleaned</th>\n",
       "      <th>league_name</th>\n",
       "      <th>year</th>\n",
       "      <th>season</th>\n",
       "    </tr>\n",
       "  </thead>\n",
       "  <tbody>\n",
       "    <tr>\n",
       "      <th>1221</th>\n",
       "      <td>Coventry City</td>\n",
       "      <td>Paul Williams</td>\n",
       "      <td>25.0</td>\n",
       "      <td>defence</td>\n",
       "      <td>Huddersfield</td>\n",
       "      <td>loan transfer</td>\n",
       "      <td>out</td>\n",
       "      <td>Winter</td>\n",
       "      <td>NaN</td>\n",
       "      <td>Premier League</td>\n",
       "      <td>1994</td>\n",
       "      <td>1994/1995</td>\n",
       "    </tr>\n",
       "    <tr>\n",
       "      <th>1222</th>\n",
       "      <td>Coventry City</td>\n",
       "      <td>Paul Williams</td>\n",
       "      <td>25.0</td>\n",
       "      <td>defence</td>\n",
       "      <td>Huddersfield</td>\n",
       "      <td>loan transfer</td>\n",
       "      <td>out</td>\n",
       "      <td>Winter</td>\n",
       "      <td>NaN</td>\n",
       "      <td>Premier League</td>\n",
       "      <td>1994</td>\n",
       "      <td>1994/1995</td>\n",
       "    </tr>\n",
       "    <tr>\n",
       "      <th>1391</th>\n",
       "      <td>Nottingham Forest</td>\n",
       "      <td>Gary Bull</td>\n",
       "      <td>29.0</td>\n",
       "      <td>attack</td>\n",
       "      <td>Brighton</td>\n",
       "      <td>loan transfer</td>\n",
       "      <td>out</td>\n",
       "      <td>Summer</td>\n",
       "      <td>NaN</td>\n",
       "      <td>Premier League</td>\n",
       "      <td>1995</td>\n",
       "      <td>1995/1996</td>\n",
       "    </tr>\n",
       "    <tr>\n",
       "      <th>1392</th>\n",
       "      <td>Nottingham Forest</td>\n",
       "      <td>Gary Bull</td>\n",
       "      <td>29.0</td>\n",
       "      <td>attack</td>\n",
       "      <td>Brighton</td>\n",
       "      <td>loan transfer</td>\n",
       "      <td>out</td>\n",
       "      <td>Summer</td>\n",
       "      <td>NaN</td>\n",
       "      <td>Premier League</td>\n",
       "      <td>1995</td>\n",
       "      <td>1995/1996</td>\n",
       "    </tr>\n",
       "    <tr>\n",
       "      <th>2863</th>\n",
       "      <td>Crystal Palace</td>\n",
       "      <td>Danny Boxall</td>\n",
       "      <td>20.0</td>\n",
       "      <td>defence</td>\n",
       "      <td>Oldham Athletic</td>\n",
       "      <td>loan transfer</td>\n",
       "      <td>out</td>\n",
       "      <td>Winter</td>\n",
       "      <td>NaN</td>\n",
       "      <td>Premier League</td>\n",
       "      <td>1997</td>\n",
       "      <td>1997/1998</td>\n",
       "    </tr>\n",
       "    <tr>\n",
       "      <th>2865</th>\n",
       "      <td>Crystal Palace</td>\n",
       "      <td>Danny Boxall</td>\n",
       "      <td>20.0</td>\n",
       "      <td>defence</td>\n",
       "      <td>Oldham Athletic</td>\n",
       "      <td>loan transfer</td>\n",
       "      <td>out</td>\n",
       "      <td>Winter</td>\n",
       "      <td>NaN</td>\n",
       "      <td>Premier League</td>\n",
       "      <td>1997</td>\n",
       "      <td>1997/1998</td>\n",
       "    </tr>\n",
       "    <tr>\n",
       "      <th>2935</th>\n",
       "      <td>Bolton Wanderers</td>\n",
       "      <td>Bryan Small</td>\n",
       "      <td>26.0</td>\n",
       "      <td>defence</td>\n",
       "      <td>Bury</td>\n",
       "      <td>loan transfer</td>\n",
       "      <td>out</td>\n",
       "      <td>Winter</td>\n",
       "      <td>NaN</td>\n",
       "      <td>Premier League</td>\n",
       "      <td>1997</td>\n",
       "      <td>1997/1998</td>\n",
       "    </tr>\n",
       "    <tr>\n",
       "      <th>2937</th>\n",
       "      <td>Bolton Wanderers</td>\n",
       "      <td>Bryan Small</td>\n",
       "      <td>26.0</td>\n",
       "      <td>defence</td>\n",
       "      <td>Bury</td>\n",
       "      <td>loan transfer</td>\n",
       "      <td>out</td>\n",
       "      <td>Winter</td>\n",
       "      <td>NaN</td>\n",
       "      <td>Premier League</td>\n",
       "      <td>1997</td>\n",
       "      <td>1997/1998</td>\n",
       "    </tr>\n",
       "    <tr>\n",
       "      <th>4284</th>\n",
       "      <td>Southampton FC</td>\n",
       "      <td>Richard Dryden</td>\n",
       "      <td>30.0</td>\n",
       "      <td>Centre-Back</td>\n",
       "      <td>Stoke City</td>\n",
       "      <td>?</td>\n",
       "      <td>out</td>\n",
       "      <td>Winter</td>\n",
       "      <td>NaN</td>\n",
       "      <td>Premier League</td>\n",
       "      <td>1999</td>\n",
       "      <td>1999/2000</td>\n",
       "    </tr>\n",
       "    <tr>\n",
       "      <th>4285</th>\n",
       "      <td>Southampton FC</td>\n",
       "      <td>Richard Dryden</td>\n",
       "      <td>30.0</td>\n",
       "      <td>Centre-Back</td>\n",
       "      <td>Stoke City</td>\n",
       "      <td>?</td>\n",
       "      <td>out</td>\n",
       "      <td>Winter</td>\n",
       "      <td>NaN</td>\n",
       "      <td>Premier League</td>\n",
       "      <td>1999</td>\n",
       "      <td>1999/2000</td>\n",
       "    </tr>\n",
       "    <tr>\n",
       "      <th>4343</th>\n",
       "      <td>Derby County</td>\n",
       "      <td>Richard Knight</td>\n",
       "      <td>20.0</td>\n",
       "      <td>Goalkeeper</td>\n",
       "      <td>Oxford United</td>\n",
       "      <td>loan transfer</td>\n",
       "      <td>out</td>\n",
       "      <td>Winter</td>\n",
       "      <td>NaN</td>\n",
       "      <td>Premier League</td>\n",
       "      <td>1999</td>\n",
       "      <td>1999/2000</td>\n",
       "    </tr>\n",
       "    <tr>\n",
       "      <th>4344</th>\n",
       "      <td>Derby County</td>\n",
       "      <td>Richard Knight</td>\n",
       "      <td>20.0</td>\n",
       "      <td>Goalkeeper</td>\n",
       "      <td>Oxford United</td>\n",
       "      <td>loan transfer</td>\n",
       "      <td>out</td>\n",
       "      <td>Winter</td>\n",
       "      <td>NaN</td>\n",
       "      <td>Premier League</td>\n",
       "      <td>1999</td>\n",
       "      <td>1999/2000</td>\n",
       "    </tr>\n",
       "    <tr>\n",
       "      <th>9736</th>\n",
       "      <td>Charlton Athletic</td>\n",
       "      <td>Jonathan Fortune</td>\n",
       "      <td>26.0</td>\n",
       "      <td>Centre-Back</td>\n",
       "      <td>Stoke City</td>\n",
       "      <td>loan transfer</td>\n",
       "      <td>out</td>\n",
       "      <td>Winter</td>\n",
       "      <td>NaN</td>\n",
       "      <td>Premier League</td>\n",
       "      <td>2006</td>\n",
       "      <td>2006/2007</td>\n",
       "    </tr>\n",
       "    <tr>\n",
       "      <th>9738</th>\n",
       "      <td>Charlton Athletic</td>\n",
       "      <td>Jonathan Fortune</td>\n",
       "      <td>26.0</td>\n",
       "      <td>Centre-Back</td>\n",
       "      <td>Stoke City</td>\n",
       "      <td>loan transfer</td>\n",
       "      <td>out</td>\n",
       "      <td>Winter</td>\n",
       "      <td>NaN</td>\n",
       "      <td>Premier League</td>\n",
       "      <td>2006</td>\n",
       "      <td>2006/2007</td>\n",
       "    </tr>\n",
       "    <tr>\n",
       "      <th>12463</th>\n",
       "      <td>Fulham FC</td>\n",
       "      <td>Toni Kallio</td>\n",
       "      <td>31.0</td>\n",
       "      <td>Centre-Back</td>\n",
       "      <td>Sheff Utd</td>\n",
       "      <td>loan transfer</td>\n",
       "      <td>out</td>\n",
       "      <td>Winter</td>\n",
       "      <td>NaN</td>\n",
       "      <td>Premier League</td>\n",
       "      <td>2009</td>\n",
       "      <td>2009/2010</td>\n",
       "    </tr>\n",
       "    <tr>\n",
       "      <th>12464</th>\n",
       "      <td>Fulham FC</td>\n",
       "      <td>Toni Kallio</td>\n",
       "      <td>31.0</td>\n",
       "      <td>Centre-Back</td>\n",
       "      <td>Sheff Utd</td>\n",
       "      <td>loan transfer</td>\n",
       "      <td>out</td>\n",
       "      <td>Winter</td>\n",
       "      <td>NaN</td>\n",
       "      <td>Premier League</td>\n",
       "      <td>2009</td>\n",
       "      <td>2009/2010</td>\n",
       "    </tr>\n",
       "    <tr>\n",
       "      <th>15246</th>\n",
       "      <td>Chelsea FC</td>\n",
       "      <td>Todd Kane</td>\n",
       "      <td>19.0</td>\n",
       "      <td>Right-Back</td>\n",
       "      <td>Blackburn</td>\n",
       "      <td>loan transfer</td>\n",
       "      <td>out</td>\n",
       "      <td>Winter</td>\n",
       "      <td>NaN</td>\n",
       "      <td>Premier League</td>\n",
       "      <td>2012</td>\n",
       "      <td>2012/2013</td>\n",
       "    </tr>\n",
       "    <tr>\n",
       "      <th>15248</th>\n",
       "      <td>Chelsea FC</td>\n",
       "      <td>Todd Kane</td>\n",
       "      <td>19.0</td>\n",
       "      <td>Right-Back</td>\n",
       "      <td>Blackburn</td>\n",
       "      <td>loan transfer</td>\n",
       "      <td>out</td>\n",
       "      <td>Winter</td>\n",
       "      <td>NaN</td>\n",
       "      <td>Premier League</td>\n",
       "      <td>2012</td>\n",
       "      <td>2012/2013</td>\n",
       "    </tr>\n",
       "    <tr>\n",
       "      <th>15523</th>\n",
       "      <td>Wigan Athletic</td>\n",
       "      <td>Rob Kiernan</td>\n",
       "      <td>21.0</td>\n",
       "      <td>Centre-Back</td>\n",
       "      <td>Brentford</td>\n",
       "      <td>loan transfer</td>\n",
       "      <td>out</td>\n",
       "      <td>Winter</td>\n",
       "      <td>NaN</td>\n",
       "      <td>Premier League</td>\n",
       "      <td>2012</td>\n",
       "      <td>2012/2013</td>\n",
       "    </tr>\n",
       "    <tr>\n",
       "      <th>15524</th>\n",
       "      <td>Wigan Athletic</td>\n",
       "      <td>Rob Kiernan</td>\n",
       "      <td>21.0</td>\n",
       "      <td>Centre-Back</td>\n",
       "      <td>Brentford</td>\n",
       "      <td>loan transfer</td>\n",
       "      <td>out</td>\n",
       "      <td>Winter</td>\n",
       "      <td>NaN</td>\n",
       "      <td>Premier League</td>\n",
       "      <td>2012</td>\n",
       "      <td>2012/2013</td>\n",
       "    </tr>\n",
       "    <tr>\n",
       "      <th>16517</th>\n",
       "      <td>Cardiff City</td>\n",
       "      <td>Joe Mason</td>\n",
       "      <td>22.0</td>\n",
       "      <td>Centre-Forward</td>\n",
       "      <td>Bolton</td>\n",
       "      <td>loan transfer</td>\n",
       "      <td>out</td>\n",
       "      <td>Winter</td>\n",
       "      <td>NaN</td>\n",
       "      <td>Premier League</td>\n",
       "      <td>2013</td>\n",
       "      <td>2013/2014</td>\n",
       "    </tr>\n",
       "    <tr>\n",
       "      <th>16521</th>\n",
       "      <td>Cardiff City</td>\n",
       "      <td>Joe Mason</td>\n",
       "      <td>22.0</td>\n",
       "      <td>Centre-Forward</td>\n",
       "      <td>Bolton</td>\n",
       "      <td>loan transfer</td>\n",
       "      <td>out</td>\n",
       "      <td>Winter</td>\n",
       "      <td>NaN</td>\n",
       "      <td>Premier League</td>\n",
       "      <td>2013</td>\n",
       "      <td>2013/2014</td>\n",
       "    </tr>\n",
       "    <tr>\n",
       "      <th>16541</th>\n",
       "      <td>Hull City</td>\n",
       "      <td>Eldin Jakupovic</td>\n",
       "      <td>29.0</td>\n",
       "      <td>Goalkeeper</td>\n",
       "      <td>Leyton Orient</td>\n",
       "      <td>loan transfer</td>\n",
       "      <td>out</td>\n",
       "      <td>Winter</td>\n",
       "      <td>NaN</td>\n",
       "      <td>Premier League</td>\n",
       "      <td>2013</td>\n",
       "      <td>2013/2014</td>\n",
       "    </tr>\n",
       "    <tr>\n",
       "      <th>16542</th>\n",
       "      <td>Hull City</td>\n",
       "      <td>Eldin Jakupovic</td>\n",
       "      <td>29.0</td>\n",
       "      <td>Goalkeeper</td>\n",
       "      <td>Leyton Orient</td>\n",
       "      <td>loan transfer</td>\n",
       "      <td>out</td>\n",
       "      <td>Winter</td>\n",
       "      <td>NaN</td>\n",
       "      <td>Premier League</td>\n",
       "      <td>2013</td>\n",
       "      <td>2013/2014</td>\n",
       "    </tr>\n",
       "    <tr>\n",
       "      <th>17400</th>\n",
       "      <td>Crystal Palace</td>\n",
       "      <td>Adlène Guédioura</td>\n",
       "      <td>29.0</td>\n",
       "      <td>Central Midfield</td>\n",
       "      <td>Watford</td>\n",
       "      <td>loan transfer</td>\n",
       "      <td>out</td>\n",
       "      <td>Winter</td>\n",
       "      <td>NaN</td>\n",
       "      <td>Premier League</td>\n",
       "      <td>2014</td>\n",
       "      <td>2014/2015</td>\n",
       "    </tr>\n",
       "    <tr>\n",
       "      <th>17407</th>\n",
       "      <td>Crystal Palace</td>\n",
       "      <td>Adlène Guédioura</td>\n",
       "      <td>29.0</td>\n",
       "      <td>Central Midfield</td>\n",
       "      <td>Watford</td>\n",
       "      <td>loan transfer</td>\n",
       "      <td>out</td>\n",
       "      <td>Winter</td>\n",
       "      <td>NaN</td>\n",
       "      <td>Premier League</td>\n",
       "      <td>2014</td>\n",
       "      <td>2014/2015</td>\n",
       "    </tr>\n",
       "  </tbody>\n",
       "</table>\n",
       "</div>"
      ],
      "text/plain": [
       "               club_name       player_name   age          position  \\\n",
       "1221       Coventry City     Paul Williams  25.0           defence   \n",
       "1222       Coventry City     Paul Williams  25.0           defence   \n",
       "1391   Nottingham Forest         Gary Bull  29.0            attack   \n",
       "1392   Nottingham Forest         Gary Bull  29.0            attack   \n",
       "2863      Crystal Palace      Danny Boxall  20.0           defence   \n",
       "2865      Crystal Palace      Danny Boxall  20.0           defence   \n",
       "2935    Bolton Wanderers       Bryan Small  26.0           defence   \n",
       "2937    Bolton Wanderers       Bryan Small  26.0           defence   \n",
       "4284      Southampton FC    Richard Dryden  30.0       Centre-Back   \n",
       "4285      Southampton FC    Richard Dryden  30.0       Centre-Back   \n",
       "4343        Derby County    Richard Knight  20.0        Goalkeeper   \n",
       "4344        Derby County    Richard Knight  20.0        Goalkeeper   \n",
       "9736   Charlton Athletic  Jonathan Fortune  26.0       Centre-Back   \n",
       "9738   Charlton Athletic  Jonathan Fortune  26.0       Centre-Back   \n",
       "12463          Fulham FC       Toni Kallio  31.0       Centre-Back   \n",
       "12464          Fulham FC       Toni Kallio  31.0       Centre-Back   \n",
       "15246         Chelsea FC         Todd Kane  19.0        Right-Back   \n",
       "15248         Chelsea FC         Todd Kane  19.0        Right-Back   \n",
       "15523     Wigan Athletic       Rob Kiernan  21.0       Centre-Back   \n",
       "15524     Wigan Athletic       Rob Kiernan  21.0       Centre-Back   \n",
       "16517       Cardiff City         Joe Mason  22.0    Centre-Forward   \n",
       "16521       Cardiff City         Joe Mason  22.0    Centre-Forward   \n",
       "16541          Hull City   Eldin Jakupovic  29.0        Goalkeeper   \n",
       "16542          Hull City   Eldin Jakupovic  29.0        Goalkeeper   \n",
       "17400     Crystal Palace  Adlène Guédioura  29.0  Central Midfield   \n",
       "17407     Crystal Palace  Adlène Guédioura  29.0  Central Midfield   \n",
       "\n",
       "      club_involved_name            fee transfer_movement transfer_period  \\\n",
       "1221        Huddersfield  loan transfer               out          Winter   \n",
       "1222        Huddersfield  loan transfer               out          Winter   \n",
       "1391            Brighton  loan transfer               out          Summer   \n",
       "1392            Brighton  loan transfer               out          Summer   \n",
       "2863     Oldham Athletic  loan transfer               out          Winter   \n",
       "2865     Oldham Athletic  loan transfer               out          Winter   \n",
       "2935                Bury  loan transfer               out          Winter   \n",
       "2937                Bury  loan transfer               out          Winter   \n",
       "4284          Stoke City              ?               out          Winter   \n",
       "4285          Stoke City              ?               out          Winter   \n",
       "4343       Oxford United  loan transfer               out          Winter   \n",
       "4344       Oxford United  loan transfer               out          Winter   \n",
       "9736          Stoke City  loan transfer               out          Winter   \n",
       "9738          Stoke City  loan transfer               out          Winter   \n",
       "12463          Sheff Utd  loan transfer               out          Winter   \n",
       "12464          Sheff Utd  loan transfer               out          Winter   \n",
       "15246          Blackburn  loan transfer               out          Winter   \n",
       "15248          Blackburn  loan transfer               out          Winter   \n",
       "15523          Brentford  loan transfer               out          Winter   \n",
       "15524          Brentford  loan transfer               out          Winter   \n",
       "16517             Bolton  loan transfer               out          Winter   \n",
       "16521             Bolton  loan transfer               out          Winter   \n",
       "16541      Leyton Orient  loan transfer               out          Winter   \n",
       "16542      Leyton Orient  loan transfer               out          Winter   \n",
       "17400            Watford  loan transfer               out          Winter   \n",
       "17407            Watford  loan transfer               out          Winter   \n",
       "\n",
       "       fee_cleaned     league_name  year     season  \n",
       "1221           NaN  Premier League  1994  1994/1995  \n",
       "1222           NaN  Premier League  1994  1994/1995  \n",
       "1391           NaN  Premier League  1995  1995/1996  \n",
       "1392           NaN  Premier League  1995  1995/1996  \n",
       "2863           NaN  Premier League  1997  1997/1998  \n",
       "2865           NaN  Premier League  1997  1997/1998  \n",
       "2935           NaN  Premier League  1997  1997/1998  \n",
       "2937           NaN  Premier League  1997  1997/1998  \n",
       "4284           NaN  Premier League  1999  1999/2000  \n",
       "4285           NaN  Premier League  1999  1999/2000  \n",
       "4343           NaN  Premier League  1999  1999/2000  \n",
       "4344           NaN  Premier League  1999  1999/2000  \n",
       "9736           NaN  Premier League  2006  2006/2007  \n",
       "9738           NaN  Premier League  2006  2006/2007  \n",
       "12463          NaN  Premier League  2009  2009/2010  \n",
       "12464          NaN  Premier League  2009  2009/2010  \n",
       "15246          NaN  Premier League  2012  2012/2013  \n",
       "15248          NaN  Premier League  2012  2012/2013  \n",
       "15523          NaN  Premier League  2012  2012/2013  \n",
       "15524          NaN  Premier League  2012  2012/2013  \n",
       "16517          NaN  Premier League  2013  2013/2014  \n",
       "16521          NaN  Premier League  2013  2013/2014  \n",
       "16541          NaN  Premier League  2013  2013/2014  \n",
       "16542          NaN  Premier League  2013  2013/2014  \n",
       "17400          NaN  Premier League  2014  2014/2015  \n",
       "17407          NaN  Premier League  2014  2014/2015  "
      ]
     },
     "execution_count": 191,
     "metadata": {},
     "output_type": "execute_result"
    }
   ],
   "source": [
    "transfer.loc[transfer.duplicated(keep = False), :]"
   ]
  },
  {
   "cell_type": "code",
   "execution_count": 192,
   "id": "939d1b75",
   "metadata": {},
   "outputs": [],
   "source": [
    "#removing duplicates\n",
    "transfer.drop_duplicates(inplace = True, keep = 'first')"
   ]
  },
  {
   "cell_type": "code",
   "execution_count": 193,
   "id": "d340de9f",
   "metadata": {},
   "outputs": [
    {
     "data": {
      "text/plain": [
       "0"
      ]
     },
     "execution_count": 193,
     "metadata": {},
     "output_type": "execute_result"
    }
   ],
   "source": [
    "#confirming duplicates are removed\n",
    "transfer.duplicated(keep = False).sum()"
   ]
  },
  {
   "cell_type": "code",
   "execution_count": 194,
   "id": "6ccdc258",
   "metadata": {},
   "outputs": [
    {
     "data": {
      "text/plain": [
       "club_name                 0\n",
       "player_name               0\n",
       "age                      15\n",
       "position                  0\n",
       "club_involved_name        0\n",
       "fee                       4\n",
       "transfer_movement         0\n",
       "transfer_period           0\n",
       "fee_cleaned           14513\n",
       "league_name               0\n",
       "year                      0\n",
       "season                    0\n",
       "dtype: int64"
      ]
     },
     "execution_count": 194,
     "metadata": {},
     "output_type": "execute_result"
    }
   ],
   "source": [
    "#sorting null issues\n",
    "transfer.isnull().sum()"
   ]
  },
  {
   "attachments": {},
   "cell_type": "markdown",
   "id": "bc81fe2e",
   "metadata": {},
   "source": [
    "<h6>Ignoring the nulls in columns age and fee as they won't have a serious effect on analysis.\n",
    "Analysis in the fee_cleaned column will be limited/abandoned as it has too many nulls and cannot be dropped. </h6>"
   ]
  },
  {
   "cell_type": "code",
   "execution_count": 195,
   "id": "7254ba77",
   "metadata": {},
   "outputs": [
    {
     "data": {
      "text/plain": [
       "array(['Summer', 'Winter', 'summer'], dtype=object)"
      ]
     },
     "execution_count": 195,
     "metadata": {},
     "output_type": "execute_result"
    }
   ],
   "source": [
    "#transfer window column having three values instead of the standard two\n",
    "transfer['transfer_period'].unique()\n"
   ]
  },
  {
   "cell_type": "code",
   "execution_count": 196,
   "id": "b0940206",
   "metadata": {},
   "outputs": [],
   "source": [
    "transfer['transfer_period'].replace('summer', 'Summer' , inplace = True)"
   ]
  },
  {
   "cell_type": "code",
   "execution_count": 197,
   "id": "9f31d499",
   "metadata": {},
   "outputs": [
    {
     "data": {
      "text/plain": [
       "array(['Summer', 'Winter'], dtype=object)"
      ]
     },
     "execution_count": 197,
     "metadata": {},
     "output_type": "execute_result"
    }
   ],
   "source": [
    "transfer['transfer_period'].unique()"
   ]
  },
  {
   "cell_type": "code",
   "execution_count": 198,
   "id": "2ca02f1d",
   "metadata": {},
   "outputs": [
    {
     "data": {
      "text/plain": [
       "0"
      ]
     },
     "execution_count": 198,
     "metadata": {},
     "output_type": "execute_result"
    }
   ],
   "source": [
    "#checking that club names have no numeric data\n",
    "transfer.club_name.str.isnumeric().sum()"
   ]
  },
  {
   "attachments": {},
   "cell_type": "markdown",
   "id": "edd04b94",
   "metadata": {},
   "source": [
    "<h6>Some player positions are not specific - it doesn't state what part of the defence, attack or midfield it is.\n",
    "In analysis, instead of analysing by distinct positions, analysis would be carried out by the four major postions - goalkeeping, defence, midfield and attack. </h6>"
   ]
  },
  {
   "cell_type": "code",
   "execution_count": 199,
   "id": "3429d01f",
   "metadata": {},
   "outputs": [
    {
     "data": {
      "text/plain": [
       "array(['Left Winger', 'defence', 'Right-Back', 'Goalkeeper',\n",
       "       'Centre-Back', 'Right Winger', 'Centre-Forward', 'attack',\n",
       "       'Defensive Midfield', 'Left Midfield', 'Attacking Midfield',\n",
       "       'Central Midfield', 'midfield', 'Right Midfield', 'Left-Back',\n",
       "       'Second Striker'], dtype=object)"
      ]
     },
     "execution_count": 199,
     "metadata": {},
     "output_type": "execute_result"
    }
   ],
   "source": [
    "#highlighting all distinct positions, some positions are vague and not specific - 'defence', 'attack', 'midfield'\n",
    "transfer.position.unique()"
   ]
  },
  {
   "cell_type": "code",
   "execution_count": 200,
   "id": "2cd586dc",
   "metadata": {},
   "outputs": [
    {
     "data": {
      "text/plain": [
       "47.0"
      ]
     },
     "execution_count": 200,
     "metadata": {},
     "output_type": "execute_result"
    }
   ],
   "source": [
    "#creating age group column from age column\n",
    "#finding maximum age first, so as to know range of bins and cover all ages.\n",
    "transfer.age.max()"
   ]
  },
  {
   "cell_type": "code",
   "execution_count": 201,
   "id": "fbb3b398",
   "metadata": {},
   "outputs": [],
   "source": [
    "#creating age group from 0-50 in group of 5s\n",
    "agegroup_bins = [0, 5, 10, 15, 20, 25, 30, 35, 40, 45, 50]\n",
    "agegroup_labels = ['0-5', '6-10', '11-15', '16-20', '21-25', '26-30', '31-35', '36-40', '41-45', '46-50']\n",
    "transfer['age_group'] = pd.cut(x = transfer['age'], bins = agegroup_bins, labels = agegroup_labels)"
   ]
  },
  {
   "cell_type": "code",
   "execution_count": 202,
   "id": "6720d829",
   "metadata": {},
   "outputs": [
    {
     "data": {
      "text/html": [
       "<div>\n",
       "<style scoped>\n",
       "    .dataframe tbody tr th:only-of-type {\n",
       "        vertical-align: middle;\n",
       "    }\n",
       "\n",
       "    .dataframe tbody tr th {\n",
       "        vertical-align: top;\n",
       "    }\n",
       "\n",
       "    .dataframe thead th {\n",
       "        text-align: right;\n",
       "    }\n",
       "</style>\n",
       "<table border=\"1\" class=\"dataframe\">\n",
       "  <thead>\n",
       "    <tr style=\"text-align: right;\">\n",
       "      <th></th>\n",
       "      <th>club_name</th>\n",
       "      <th>player_name</th>\n",
       "      <th>age</th>\n",
       "      <th>position</th>\n",
       "      <th>club_involved_name</th>\n",
       "      <th>fee</th>\n",
       "      <th>transfer_movement</th>\n",
       "      <th>transfer_period</th>\n",
       "      <th>fee_cleaned</th>\n",
       "      <th>league_name</th>\n",
       "      <th>year</th>\n",
       "      <th>season</th>\n",
       "      <th>age_group</th>\n",
       "    </tr>\n",
       "  </thead>\n",
       "  <tbody>\n",
       "    <tr>\n",
       "      <th>0</th>\n",
       "      <td>Middlesbrough FC</td>\n",
       "      <td>Tommy Wright</td>\n",
       "      <td>26.0</td>\n",
       "      <td>Left Winger</td>\n",
       "      <td>Leicester</td>\n",
       "      <td>€910Th.</td>\n",
       "      <td>in</td>\n",
       "      <td>Summer</td>\n",
       "      <td>0.91</td>\n",
       "      <td>Premier League</td>\n",
       "      <td>1992</td>\n",
       "      <td>1992/1993</td>\n",
       "      <td>26-30</td>\n",
       "    </tr>\n",
       "    <tr>\n",
       "      <th>1</th>\n",
       "      <td>Middlesbrough FC</td>\n",
       "      <td>Jonathan Gittens</td>\n",
       "      <td>28.0</td>\n",
       "      <td>defence</td>\n",
       "      <td>Southampton</td>\n",
       "      <td>€250Th.</td>\n",
       "      <td>in</td>\n",
       "      <td>Summer</td>\n",
       "      <td>0.25</td>\n",
       "      <td>Premier League</td>\n",
       "      <td>1992</td>\n",
       "      <td>1992/1993</td>\n",
       "      <td>26-30</td>\n",
       "    </tr>\n",
       "    <tr>\n",
       "      <th>2</th>\n",
       "      <td>Middlesbrough FC</td>\n",
       "      <td>Chris Morris</td>\n",
       "      <td>28.0</td>\n",
       "      <td>Right-Back</td>\n",
       "      <td>Celtic</td>\n",
       "      <td>?</td>\n",
       "      <td>in</td>\n",
       "      <td>Summer</td>\n",
       "      <td>NaN</td>\n",
       "      <td>Premier League</td>\n",
       "      <td>1992</td>\n",
       "      <td>1992/1993</td>\n",
       "      <td>26-30</td>\n",
       "    </tr>\n",
       "    <tr>\n",
       "      <th>3</th>\n",
       "      <td>Middlesbrough FC</td>\n",
       "      <td>Ben Roberts</td>\n",
       "      <td>17.0</td>\n",
       "      <td>Goalkeeper</td>\n",
       "      <td>Boro U18</td>\n",
       "      <td>-</td>\n",
       "      <td>in</td>\n",
       "      <td>Summer</td>\n",
       "      <td>NaN</td>\n",
       "      <td>Premier League</td>\n",
       "      <td>1992</td>\n",
       "      <td>1992/1993</td>\n",
       "      <td>16-20</td>\n",
       "    </tr>\n",
       "    <tr>\n",
       "      <th>4</th>\n",
       "      <td>Middlesbrough FC</td>\n",
       "      <td>Andy Todd</td>\n",
       "      <td>17.0</td>\n",
       "      <td>Centre-Back</td>\n",
       "      <td>Boro U18</td>\n",
       "      <td>-</td>\n",
       "      <td>in</td>\n",
       "      <td>Summer</td>\n",
       "      <td>NaN</td>\n",
       "      <td>Premier League</td>\n",
       "      <td>1992</td>\n",
       "      <td>1992/1993</td>\n",
       "      <td>16-20</td>\n",
       "    </tr>\n",
       "  </tbody>\n",
       "</table>\n",
       "</div>"
      ],
      "text/plain": [
       "          club_name       player_name   age     position club_involved_name  \\\n",
       "0  Middlesbrough FC      Tommy Wright  26.0  Left Winger          Leicester   \n",
       "1  Middlesbrough FC  Jonathan Gittens  28.0      defence        Southampton   \n",
       "2  Middlesbrough FC      Chris Morris  28.0   Right-Back             Celtic   \n",
       "3  Middlesbrough FC       Ben Roberts  17.0   Goalkeeper           Boro U18   \n",
       "4  Middlesbrough FC         Andy Todd  17.0  Centre-Back           Boro U18   \n",
       "\n",
       "       fee transfer_movement transfer_period  fee_cleaned     league_name  \\\n",
       "0  €910Th.                in          Summer         0.91  Premier League   \n",
       "1  €250Th.                in          Summer         0.25  Premier League   \n",
       "2        ?                in          Summer          NaN  Premier League   \n",
       "3        -                in          Summer          NaN  Premier League   \n",
       "4        -                in          Summer          NaN  Premier League   \n",
       "\n",
       "   year     season age_group  \n",
       "0  1992  1992/1993     26-30  \n",
       "1  1992  1992/1993     26-30  \n",
       "2  1992  1992/1993     26-30  \n",
       "3  1992  1992/1993     16-20  \n",
       "4  1992  1992/1993     16-20  "
      ]
     },
     "execution_count": 202,
     "metadata": {},
     "output_type": "execute_result"
    }
   ],
   "source": [
    "transfer.head()"
   ]
  },
  {
   "attachments": {},
   "cell_type": "markdown",
   "id": "47136a95",
   "metadata": {},
   "source": [
    "<h4>Exploratory Data Analysis (EDA)</h4>"
   ]
  },
  {
   "attachments": {},
   "cell_type": "markdown",
   "id": "7e5a60b8",
   "metadata": {},
   "source": [
    "Clubs most involved in the transfer market"
   ]
  },
  {
   "cell_type": "code",
   "execution_count": 203,
   "id": "a6f2251d",
   "metadata": {},
   "outputs": [
    {
     "data": {
      "text/plain": [
       "Chelsea FC           1307\n",
       "Tottenham Hotspur    1218\n",
       "Manchester City      1093\n",
       "West Ham United      1087\n",
       "Liverpool FC         1068\n",
       "Manchester United    1011\n",
       "Newcastle United      977\n",
       "Arsenal FC            963\n",
       "Aston Villa           960\n",
       "Everton FC            957\n",
       "Name: club_name, dtype: int64"
      ]
     },
     "execution_count": 203,
     "metadata": {},
     "output_type": "execute_result"
    }
   ],
   "source": [
    "#Busiest clubs in the transfer window -- number of transfers involved in\n",
    "transfer['club_name'].value_counts(ascending= False).nlargest(10)"
   ]
  },
  {
   "attachments": {},
   "cell_type": "markdown",
   "id": "0e09c501",
   "metadata": {},
   "source": [
    "Clubs with the most buys"
   ]
  },
  {
   "cell_type": "code",
   "execution_count": 204,
   "id": "d469f9b6",
   "metadata": {},
   "outputs": [
    {
     "data": {
      "text/plain": [
       "club_name          transfer_movement\n",
       "Chelsea FC         in                   655\n",
       "Tottenham Hotspur  in                   602\n",
       "Manchester City    in                   546\n",
       "West Ham United    in                   545\n",
       "Liverpool FC       in                   533\n",
       "Manchester United  in                   507\n",
       "Newcastle United   in                   494\n",
       "Aston Villa        in                   479\n",
       "Everton FC         in                   479\n",
       "Arsenal FC         in                   478\n",
       "dtype: int64"
      ]
     },
     "execution_count": 204,
     "metadata": {},
     "output_type": "execute_result"
    }
   ],
   "source": [
    "#Clubs with the most buys in the transfer window\n",
    "transfer[['club_name', 'transfer_movement']][transfer[\"transfer_movement\"] == \"in\"].groupby('club_name').value_counts(ascending= False).nlargest(10)"
   ]
  },
  {
   "attachments": {},
   "cell_type": "markdown",
   "id": "f57ba961",
   "metadata": {},
   "source": [
    "Clubs with the least buys"
   ]
  },
  {
   "cell_type": "code",
   "execution_count": 205,
   "id": "e3babd2d",
   "metadata": {},
   "outputs": [
    {
     "data": {
      "text/plain": [
       "club_name        transfer_movement\n",
       "Swindon Town     in                    8\n",
       "Barnsley FC      in                   13\n",
       "Oldham Athletic  in                   19\n",
       "Blackpool FC     in                   27\n",
       "Brentford FC     in                   30\n",
       "dtype: int64"
      ]
     },
     "execution_count": 205,
     "metadata": {},
     "output_type": "execute_result"
    }
   ],
   "source": [
    "#Clubs with the least buys in the transfer window\n",
    "transfer[['club_name', 'transfer_movement']][transfer[\"transfer_movement\"] == \"in\"].groupby('club_name').value_counts(ascending= False).nsmallest(5)"
   ]
  },
  {
   "attachments": {},
   "cell_type": "markdown",
   "id": "fd9db040",
   "metadata": {},
   "source": [
    "Clubs with the most sales"
   ]
  },
  {
   "cell_type": "code",
   "execution_count": 206,
   "id": "ae97074c",
   "metadata": {},
   "outputs": [
    {
     "data": {
      "text/plain": [
       "club_name          transfer_movement\n",
       "Chelsea FC         out                  652\n",
       "Tottenham Hotspur  out                  616\n",
       "Manchester City    out                  547\n",
       "West Ham United    out                  542\n",
       "Liverpool FC       out                  535\n",
       "Manchester United  out                  504\n",
       "Arsenal FC         out                  485\n",
       "Newcastle United   out                  483\n",
       "Aston Villa        out                  481\n",
       "Everton FC         out                  478\n",
       "dtype: int64"
      ]
     },
     "execution_count": 206,
     "metadata": {},
     "output_type": "execute_result"
    }
   ],
   "source": [
    "#Clubs with the most sales in the transfer window\n",
    "transfer[['club_name', 'transfer_movement']][transfer[\"transfer_movement\"] == \"out\"].groupby('club_name').value_counts(ascending= False).nlargest(10)"
   ]
  },
  {
   "attachments": {},
   "cell_type": "markdown",
   "id": "4ed407af",
   "metadata": {},
   "source": [
    "Clubs with the least sales"
   ]
  },
  {
   "cell_type": "code",
   "execution_count": 207,
   "id": "8fe55e61",
   "metadata": {},
   "outputs": [
    {
     "data": {
      "text/plain": [
       "club_name        transfer_movement\n",
       "Swindon Town     out                   8\n",
       "Barnsley FC      out                   9\n",
       "Oldham Athletic  out                  12\n",
       "Blackpool FC     out                  23\n",
       "Brentford FC     out                  28\n",
       "dtype: int64"
      ]
     },
     "execution_count": 207,
     "metadata": {},
     "output_type": "execute_result"
    }
   ],
   "source": [
    "#Clubs with the least sales in the transfer window\n",
    "transfer[['club_name', 'transfer_movement']][transfer[\"transfer_movement\"] == \"out\"].groupby('club_name').value_counts(ascending= False).nsmallest(5)"
   ]
  },
  {
   "attachments": {},
   "cell_type": "markdown",
   "id": "45d57956",
   "metadata": {},
   "source": [
    "Busiest transfer seasons"
   ]
  },
  {
   "cell_type": "code",
   "execution_count": 208,
   "id": "6a973b9a",
   "metadata": {},
   "outputs": [
    {
     "data": {
      "text/plain": [
       "2014/2015    1032\n",
       "2011/2012    1017\n",
       "2013/2014     988\n",
       "2012/2013     954\n",
       "2003/2004     954\n",
       "Name: season, dtype: int64"
      ]
     },
     "execution_count": 208,
     "metadata": {},
     "output_type": "execute_result"
    }
   ],
   "source": [
    "#seasons with the most transfers\n",
    "transfer['season'].value_counts().nlargest(5)"
   ]
  },
  {
   "cell_type": "code",
   "execution_count": 209,
   "id": "a8a6302d",
   "metadata": {},
   "outputs": [
    {
     "data": {
      "text/plain": [
       "1992/1993    404\n",
       "1993/1994    445\n",
       "1994/1995    491\n",
       "1995/1996    520\n",
       "2022/2023    523\n",
       "Name: season, dtype: int64"
      ]
     },
     "execution_count": 209,
     "metadata": {},
     "output_type": "execute_result"
    }
   ],
   "source": [
    "#seasons with the least transfers\n",
    "transfer['season'].value_counts().nsmallest(5)"
   ]
  },
  {
   "attachments": {},
   "cell_type": "markdown",
   "id": "2555163c",
   "metadata": {},
   "source": [
    "Transfers over time"
   ]
  },
  {
   "cell_type": "code",
   "execution_count": 210,
   "id": "21f2839f",
   "metadata": {},
   "outputs": [
    {
     "data": {
      "image/png": "[encoded data removed]",
      "text/plain": [
       "<Figure size 720x576 with 1 Axes>"
      ]
     },
     "metadata": {
      "needs_background": "light"
     },
     "output_type": "display_data"
    }
   ],
   "source": [
    "# Plotting transfers over time \n",
    "tot = transfer.groupby('year').size()\n",
    "tot.plot(kind = 'line', figsize= (10,8) )\n",
    "plt.title('Transfers over time')\n",
    "plt.xlabel('Year')\n",
    "plt.ylabel('Number Of transfers')\n",
    "plt.show()"
   ]
  },
  {
   "cell_type": "code",
   "execution_count": 211,
   "id": "1ecad717",
   "metadata": {},
   "outputs": [
    {
     "data": {
      "image/png": "[encoded data removed]",
      "text/plain": [
       "<Figure size 432x288 with 1 Axes>"
      ]
     },
     "metadata": {
      "needs_background": "light"
     },
     "output_type": "display_data"
    }
   ],
   "source": [
    "transfer['year'].hist(bins = 31)\n",
    "plt.show()"
   ]
  },
  {
   "attachments": {},
   "cell_type": "markdown",
   "id": "bc61dafc",
   "metadata": {},
   "source": [
    "Transfers by age group"
   ]
  },
  {
   "cell_type": "code",
   "execution_count": 212,
   "id": "9f1d367b",
   "metadata": {},
   "outputs": [
    {
     "data": {
      "image/png": "[encoded data removed]",
      "text/plain": [
       "<Figure size 432x288 with 1 Axes>"
      ]
     },
     "metadata": {
      "needs_background": "light"
     },
     "output_type": "display_data"
    }
   ],
   "source": [
    "#Transfers by age group\n",
    "transfer_by_age_group = transfer.groupby('age_group').size()\n",
    "transfer_by_age_group.plot(kind = 'bar')\n",
    "plt.title('Transfers By age group')\n",
    "plt.xlabel('Age group')\n",
    "plt.ylabel('Number of transfers')\n",
    "plt.show()"
   ]
  },
  {
   "cell_type": "code",
   "execution_count": 213,
   "id": "2c687170",
   "metadata": {},
   "outputs": [
    {
     "data": {
      "text/plain": [
       "50"
      ]
     },
     "execution_count": 213,
     "metadata": {},
     "output_type": "execute_result"
    }
   ],
   "source": [
    "#Number Of PL clubs involved\n",
    "transfer.club_name.nunique()"
   ]
  },
  {
   "attachments": {},
   "cell_type": "markdown",
   "id": "20545a09",
   "metadata": {},
   "source": [
    "Transfers by Position"
   ]
  },
  {
   "cell_type": "code",
   "execution_count": 214,
   "id": "3c1388f8",
   "metadata": {},
   "outputs": [
    {
     "data": {
      "image/png": "[encoded data removed]",
      "text/plain": [
       "<Figure size 432x288 with 1 Axes>"
      ]
     },
     "metadata": {
      "needs_background": "light"
     },
     "output_type": "display_data"
    }
   ],
   "source": [
    "#Transfers by position\n",
    "transfers_by_position = transfer.groupby('position').size().sort_values(ascending=False)\n",
    "transfers_by_position.plot(kind = 'bar', title = 'Transfers by position')\n",
    "plt.xlabel('Position')\n",
    "plt.ylabel('Number of transfers')\n",
    "plt.show()"
   ]
  },
  {
   "cell_type": "code",
   "execution_count": 215,
   "id": "2b7ff567",
   "metadata": {},
   "outputs": [],
   "source": [
    "#Classifying Transfers by a more specific metric, limiting to just 4 positions - Defence, Forward, Goalkeeping and Midfield positions\n",
    "\n",
    "def broad_p(x):\n",
    "    Forward_positions = re.compile(\"Centre-Forward|Right Winger|Left Winger|Second Striker|attack\")\n",
    "    Defensive_positions = re.compile(\"Centre-Back|Right-Back|Left-Back|defence\")\n",
    "    Midfield_positions = re.compile(\"Central Midfield|Defensive Midfield|Attacking Midfield|Right Midfield|Left Midfield|midfield\")\n",
    "    if Forward_positions.match(x):\n",
    "        return 'Forwards'\n",
    "    elif Defensive_positions.match(x):\n",
    "        return 'Defenders'\n",
    "    elif Midfield_positions.match(x):\n",
    "        return 'Midfielders'\n",
    "    else:\n",
    "        return 'Goalkeepers'\n",
    "\n",
    "transfer['player_position'] = transfer['position'].apply(broad_p)"
   ]
  },
  {
   "cell_type": "code",
   "execution_count": 216,
   "id": "5f86f982",
   "metadata": {},
   "outputs": [
    {
     "data": {
      "text/html": [
       "<div>\n",
       "<style scoped>\n",
       "    .dataframe tbody tr th:only-of-type {\n",
       "        vertical-align: middle;\n",
       "    }\n",
       "\n",
       "    .dataframe tbody tr th {\n",
       "        vertical-align: top;\n",
       "    }\n",
       "\n",
       "    .dataframe thead th {\n",
       "        text-align: right;\n",
       "    }\n",
       "</style>\n",
       "<table border=\"1\" class=\"dataframe\">\n",
       "  <thead>\n",
       "    <tr style=\"text-align: right;\">\n",
       "      <th></th>\n",
       "      <th>club_name</th>\n",
       "      <th>player_name</th>\n",
       "      <th>age</th>\n",
       "      <th>position</th>\n",
       "      <th>club_involved_name</th>\n",
       "      <th>fee</th>\n",
       "      <th>transfer_movement</th>\n",
       "      <th>transfer_period</th>\n",
       "      <th>fee_cleaned</th>\n",
       "      <th>league_name</th>\n",
       "      <th>year</th>\n",
       "      <th>season</th>\n",
       "      <th>age_group</th>\n",
       "      <th>player_position</th>\n",
       "    </tr>\n",
       "  </thead>\n",
       "  <tbody>\n",
       "    <tr>\n",
       "      <th>0</th>\n",
       "      <td>Middlesbrough FC</td>\n",
       "      <td>Tommy Wright</td>\n",
       "      <td>26.0</td>\n",
       "      <td>Left Winger</td>\n",
       "      <td>Leicester</td>\n",
       "      <td>€910Th.</td>\n",
       "      <td>in</td>\n",
       "      <td>Summer</td>\n",
       "      <td>0.91</td>\n",
       "      <td>Premier League</td>\n",
       "      <td>1992</td>\n",
       "      <td>1992/1993</td>\n",
       "      <td>26-30</td>\n",
       "      <td>Forwards</td>\n",
       "    </tr>\n",
       "    <tr>\n",
       "      <th>1</th>\n",
       "      <td>Middlesbrough FC</td>\n",
       "      <td>Jonathan Gittens</td>\n",
       "      <td>28.0</td>\n",
       "      <td>defence</td>\n",
       "      <td>Southampton</td>\n",
       "      <td>€250Th.</td>\n",
       "      <td>in</td>\n",
       "      <td>Summer</td>\n",
       "      <td>0.25</td>\n",
       "      <td>Premier League</td>\n",
       "      <td>1992</td>\n",
       "      <td>1992/1993</td>\n",
       "      <td>26-30</td>\n",
       "      <td>Defenders</td>\n",
       "    </tr>\n",
       "    <tr>\n",
       "      <th>2</th>\n",
       "      <td>Middlesbrough FC</td>\n",
       "      <td>Chris Morris</td>\n",
       "      <td>28.0</td>\n",
       "      <td>Right-Back</td>\n",
       "      <td>Celtic</td>\n",
       "      <td>?</td>\n",
       "      <td>in</td>\n",
       "      <td>Summer</td>\n",
       "      <td>NaN</td>\n",
       "      <td>Premier League</td>\n",
       "      <td>1992</td>\n",
       "      <td>1992/1993</td>\n",
       "      <td>26-30</td>\n",
       "      <td>Defenders</td>\n",
       "    </tr>\n",
       "    <tr>\n",
       "      <th>3</th>\n",
       "      <td>Middlesbrough FC</td>\n",
       "      <td>Ben Roberts</td>\n",
       "      <td>17.0</td>\n",
       "      <td>Goalkeeper</td>\n",
       "      <td>Boro U18</td>\n",
       "      <td>-</td>\n",
       "      <td>in</td>\n",
       "      <td>Summer</td>\n",
       "      <td>NaN</td>\n",
       "      <td>Premier League</td>\n",
       "      <td>1992</td>\n",
       "      <td>1992/1993</td>\n",
       "      <td>16-20</td>\n",
       "      <td>Goalkeepers</td>\n",
       "    </tr>\n",
       "    <tr>\n",
       "      <th>4</th>\n",
       "      <td>Middlesbrough FC</td>\n",
       "      <td>Andy Todd</td>\n",
       "      <td>17.0</td>\n",
       "      <td>Centre-Back</td>\n",
       "      <td>Boro U18</td>\n",
       "      <td>-</td>\n",
       "      <td>in</td>\n",
       "      <td>Summer</td>\n",
       "      <td>NaN</td>\n",
       "      <td>Premier League</td>\n",
       "      <td>1992</td>\n",
       "      <td>1992/1993</td>\n",
       "      <td>16-20</td>\n",
       "      <td>Defenders</td>\n",
       "    </tr>\n",
       "  </tbody>\n",
       "</table>\n",
       "</div>"
      ],
      "text/plain": [
       "          club_name       player_name   age     position club_involved_name  \\\n",
       "0  Middlesbrough FC      Tommy Wright  26.0  Left Winger          Leicester   \n",
       "1  Middlesbrough FC  Jonathan Gittens  28.0      defence        Southampton   \n",
       "2  Middlesbrough FC      Chris Morris  28.0   Right-Back             Celtic   \n",
       "3  Middlesbrough FC       Ben Roberts  17.0   Goalkeeper           Boro U18   \n",
       "4  Middlesbrough FC         Andy Todd  17.0  Centre-Back           Boro U18   \n",
       "\n",
       "       fee transfer_movement transfer_period  fee_cleaned     league_name  \\\n",
       "0  €910Th.                in          Summer         0.91  Premier League   \n",
       "1  €250Th.                in          Summer         0.25  Premier League   \n",
       "2        ?                in          Summer          NaN  Premier League   \n",
       "3        -                in          Summer          NaN  Premier League   \n",
       "4        -                in          Summer          NaN  Premier League   \n",
       "\n",
       "   year     season age_group player_position  \n",
       "0  1992  1992/1993     26-30        Forwards  \n",
       "1  1992  1992/1993     26-30       Defenders  \n",
       "2  1992  1992/1993     26-30       Defenders  \n",
       "3  1992  1992/1993     16-20     Goalkeepers  \n",
       "4  1992  1992/1993     16-20       Defenders  "
      ]
     },
     "execution_count": 216,
     "metadata": {},
     "output_type": "execute_result"
    }
   ],
   "source": [
    "transfer.head()"
   ]
  },
  {
   "cell_type": "code",
   "execution_count": 217,
   "id": "637ee6ad",
   "metadata": {},
   "outputs": [
    {
     "data": {
      "image/png": "[encoded data removed]",
      "text/plain": [
       "<Figure size 432x288 with 1 Axes>"
      ]
     },
     "metadata": {
      "needs_background": "light"
     },
     "output_type": "display_data"
    }
   ],
   "source": [
    "#Transfers by Position II\n",
    "transfers_by_broad_position = transfer.groupby('player_position').size().sort_values(ascending=False)\n",
    "transfers_by_broad_position.plot(kind = 'bar', title = 'Transfers By broad position')\n",
    "plt.xlabel('Position')\n",
    "plt.ylabel('Number Of transfers')\n",
    "plt.show()"
   ]
  },
  {
   "attachments": {},
   "cell_type": "markdown",
   "id": "c5641ff0",
   "metadata": {},
   "source": [
    "Findings and Insights\n",
    "\n",
    "<h6>\n",
    "\n",
    "1. Of the clubs most involved in the most transfers in terms of quantity of buys and sales, only West Ham aren't part of the traditional PL's 'Big Six'. They rank fourth in terms of transfer involvements. They also bought and sold more players than Liverpool, Man Utd and Arsenal.\n",
    "\n",
    "2. Arsenal's somewhat unpopular prudence in terms of spending is proven here as they rank tenth in terms of transfers in, with clubs like Aston Villa, Everton, Newcastle and West Ham buying more players than them over the last 20 years. \n",
    "\n",
    "3. The 2014/2015 season recorded the most transfers with over 1000 transfers, with only the 2011/2012 being the only season with over 1000 transfers. Generally, the early 2010s were the seasons with the most transfers with 4 seasons making the top 5. The fifth busiest season was the 2003/2004 season. The early 90s has the least transfers.\n",
    "\n",
    "4. Unsurprisingly, the age group of most of players transferred was 21-25 as this is when players are usually 'hot' and deemed talented. Players aged 16-20 were also transferred more than players aged 26-30.\n",
    "\n",
    "5. Forwards and defenders are the kind of players most sought after.\n",
    " \n",
    "</h6>"
   ]
  },
  {
   "attachments": {},
   "cell_type": "markdown",
   "id": "cbe2aa5a",
   "metadata": {},
   "source": [
    "Limitations \n",
    "\n",
    "<h6> The fee column having way too many nulls affected analysis greatly as i could not analyze clubs that spent or sold more in terms of transfer fees.\n",
    "</h6>"
   ]
  }
 ],
 "metadata": {
  "kernelspec": {
   "display_name": "base",
   "language": "python",
   "name": "python3"
  },
  "language_info": {
   "codemirror_mode": {
    "name": "ipython",
    "version": 3
   },
   "file_extension": ".py",
   "mimetype": "text/x-python",
   "name": "python",
   "nbconvert_exporter": "python",
   "pygments_lexer": "ipython3",
   "version": "3.9.12"
  },
  "vscode": {
   "interpreter": {
    "hash": "581efa563e250520a9f8b1746b2e8ab4dcedc75f1d5182bd22191e06316fc0fd"
   }
  }
 },
 "nbformat": 4,
 "nbformat_minor": 5
}
