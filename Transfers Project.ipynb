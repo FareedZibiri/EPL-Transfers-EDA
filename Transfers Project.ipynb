{
 "cells": [
  {
   "cell_type": "markdown",
   "id": "409ae71a",
   "metadata": {},
   "source": [
    "Introduction\n",
    "\n",
    "In this project, i explore a dataset containing transfers of the English Premier League from 1992 to 2019.\n",
    "I aim to uncover hidden patterns, get insights into the transfer market in english football."
   ]
  },
  {
   "cell_type": "markdown",
   "id": "fd7566a5",
   "metadata": {},
   "source": [
    "Importing necessary Libraries"
   ]
  },
  {
   "cell_type": "code",
   "execution_count": 1,
   "id": "8a304d4b",
   "metadata": {},
   "outputs": [
    {
     "ename": "ModuleNotFoundError",
     "evalue": "No module named 'pandas'",
     "output_type": "error",
     "traceback": [
      "\u001b[1;31m---------------------------------------------------------------------------\u001b[0m",
      "\u001b[1;31mModuleNotFoundError\u001b[0m                       Traceback (most recent call last)",
      "Cell \u001b[1;32mIn [1], line 2\u001b[0m\n\u001b[0;32m      1\u001b[0m \u001b[39mimport\u001b[39;00m \u001b[39mglob\u001b[39;00m\n\u001b[1;32m----> 2\u001b[0m \u001b[39mimport\u001b[39;00m \u001b[39mpandas\u001b[39;00m \u001b[39mas\u001b[39;00m \u001b[39mpd\u001b[39;00m\n\u001b[0;32m      3\u001b[0m \u001b[39mimport\u001b[39;00m \u001b[39mmatplotlib\u001b[39;00m\u001b[39m.\u001b[39;00m\u001b[39mpyplot\u001b[39;00m \u001b[39mas\u001b[39;00m \u001b[39mplt\u001b[39;00m\n\u001b[0;32m      4\u001b[0m \u001b[39mimport\u001b[39;00m \u001b[39mnumpy\u001b[39;00m \u001b[39mas\u001b[39;00m \u001b[39mnp\u001b[39;00m\n",
      "\u001b[1;31mModuleNotFoundError\u001b[0m: No module named 'pandas'"
     ]
    }
   ],
   "source": [
    "import glob\n",
    "import pandas as pd\n",
    "import matplotlib.pyplot as plt\n",
    "import numpy as np"
   ]
  },
  {
   "cell_type": "markdown",
   "id": "2ab017bc",
   "metadata": {},
   "source": [
    "Reading csv files"
   ]
  },
  {
   "cell_type": "code",
   "execution_count": null,
   "id": "fce5c91a",
   "metadata": {},
   "outputs": [
    {
     "ename": "",
     "evalue": "",
     "output_type": "error",
     "traceback": [
      "\u001b[1;31mFailed to start the Kernel. \n",
      "\u001b[1;31mUnable to start Kernel 'Python 3.10.9' due to connection timeout. \n",
      "\u001b[1;31mView Jupyter <a href='command:jupyter.viewOutput'>log</a> for further details."
     ]
    }
   ],
   "source": [
    "#getting path and csv files\n",
    "path = \"C:\\\\Users\\\\Fareed\\\\Downloads\\\\Main Footy Project\"\n",
    "\n",
    "#convert csv file to dataframe\n",
    "transfer = pd.read_csv('premier-league.csv')"
   ]
  },
  {
   "cell_type": "markdown",
   "id": "588b7b21",
   "metadata": {},
   "source": [
    "DATA EXPLORATION"
   ]
  },
  {
   "cell_type": "code",
   "execution_count": null,
   "id": "0658f0ef",
   "metadata": {},
   "outputs": [
    {
     "ename": "",
     "evalue": "",
     "output_type": "error",
     "traceback": [
      "\u001b[1;31mFailed to start the Kernel. \n",
      "\u001b[1;31mUnable to start Kernel 'Python 3.10.9' due to connection timeout. \n",
      "\u001b[1;31mView Jupyter <a href='command:jupyter.viewOutput'>log</a> for further details."
     ]
    }
   ],
   "source": [
    "transfer.head()"
   ]
  },
  {
   "cell_type": "code",
   "execution_count": null,
   "id": "00d02466",
   "metadata": {},
   "outputs": [
    {
     "ename": "",
     "evalue": "",
     "output_type": "error",
     "traceback": [
      "\u001b[1;31mFailed to start the Kernel. \n",
      "\u001b[1;31mUnable to start Kernel 'Python 3.10.9' due to connection timeout. \n",
      "\u001b[1;31mView Jupyter <a href='command:jupyter.viewOutput'>log</a> for further details."
     ]
    }
   ],
   "source": [
    "transfer.shape"
   ]
  },
  {
   "cell_type": "code",
   "execution_count": null,
   "id": "8fee6220",
   "metadata": {},
   "outputs": [
    {
     "ename": "",
     "evalue": "",
     "output_type": "error",
     "traceback": [
      "\u001b[1;31mFailed to start the Kernel. \n",
      "\u001b[1;31mUnable to start Kernel 'Python 3.10.9' due to connection timeout. \n",
      "\u001b[1;31mView Jupyter <a href='command:jupyter.viewOutput'>log</a> for further details."
     ]
    }
   ],
   "source": [
    "transfer.describe()"
   ]
  },
  {
   "cell_type": "code",
   "execution_count": null,
   "id": "c44bca7b",
   "metadata": {},
   "outputs": [
    {
     "ename": "",
     "evalue": "",
     "output_type": "error",
     "traceback": [
      "\u001b[1;31mFailed to start the Kernel. \n",
      "\u001b[1;31mUnable to start Kernel 'Python 3.10.9' due to connection timeout. \n",
      "\u001b[1;31mView Jupyter <a href='command:jupyter.viewOutput'>log</a> for further details."
     ]
    }
   ],
   "source": [
    "transfer.info()"
   ]
  },
  {
   "cell_type": "markdown",
   "id": "4748e64f",
   "metadata": {},
   "source": [
    "DATA CLEANING"
   ]
  },
  {
   "cell_type": "markdown",
   "id": "286faf49",
   "metadata": {},
   "source": [
    "Data Cleaning\n",
    "\n",
    "Possible Issues:\n",
    "- Duplicates\n",
    "- Null issues - fee col -  4 nulls, age col - 15 nulls, fee_cleaned column has too many nulls 14,526 nulls\n",
    "- Three transfer_periods(summer, Summer, winter)\n"
   ]
  },
  {
   "cell_type": "code",
   "execution_count": null,
   "id": "446c95c9",
   "metadata": {},
   "outputs": [
    {
     "ename": "",
     "evalue": "",
     "output_type": "error",
     "traceback": [
      "\u001b[1;31mFailed to start the Kernel. \n",
      "\u001b[1;31mUnable to start Kernel 'Python 3.10.9' due to connection timeout. \n",
      "\u001b[1;31mView Jupyter <a href='command:jupyter.viewOutput'>log</a> for further details."
     ]
    }
   ],
   "source": [
    "#checking for duplicates\n",
    "transfer.duplicated(keep = False).sum()"
   ]
  },
  {
   "cell_type": "code",
   "execution_count": null,
   "id": "35ab8370",
   "metadata": {},
   "outputs": [
    {
     "ename": "",
     "evalue": "",
     "output_type": "error",
     "traceback": [
      "\u001b[1;31mFailed to start the Kernel. \n",
      "\u001b[1;31mUnable to start Kernel 'Python 3.10.9' due to connection timeout. \n",
      "\u001b[1;31mView Jupyter <a href='command:jupyter.viewOutput'>log</a> for further details."
     ]
    }
   ],
   "source": [
    "transfer.loc[transfer.duplicated(keep = False), :]"
   ]
  },
  {
   "cell_type": "code",
   "execution_count": null,
   "id": "939d1b75",
   "metadata": {},
   "outputs": [
    {
     "ename": "",
     "evalue": "",
     "output_type": "error",
     "traceback": [
      "\u001b[1;31mFailed to start the Kernel. \n",
      "\u001b[1;31mUnable to start Kernel 'Python 3.10.9' due to connection timeout. \n",
      "\u001b[1;31mView Jupyter <a href='command:jupyter.viewOutput'>log</a> for further details."
     ]
    }
   ],
   "source": [
    "#removing duplicates\n",
    "transfer.drop_duplicates(inplace = True, keep = 'first')"
   ]
  },
  {
   "cell_type": "code",
   "execution_count": null,
   "id": "d340de9f",
   "metadata": {},
   "outputs": [
    {
     "ename": "",
     "evalue": "",
     "output_type": "error",
     "traceback": [
      "\u001b[1;31mFailed to start the Kernel. \n",
      "\u001b[1;31mUnable to start Kernel 'Python 3.10.9' due to connection timeout. \n",
      "\u001b[1;31mView Jupyter <a href='command:jupyter.viewOutput'>log</a> for further details."
     ]
    }
   ],
   "source": [
    "#confirming duplicates are removed\n",
    "transfer.duplicated(keep = False).sum()"
   ]
  },
  {
   "cell_type": "code",
   "execution_count": null,
   "id": "6ccdc258",
   "metadata": {},
   "outputs": [
    {
     "ename": "",
     "evalue": "",
     "output_type": "error",
     "traceback": [
      "\u001b[1;31mFailed to start the Kernel. \n",
      "\u001b[1;31mUnable to start Kernel 'Python 3.10.9' due to connection timeout. \n",
      "\u001b[1;31mView Jupyter <a href='command:jupyter.viewOutput'>log</a> for further details."
     ]
    }
   ],
   "source": [
    "#sorting null issues\n",
    "transfer.isnull().sum()"
   ]
  },
  {
   "cell_type": "markdown",
   "id": "bc81fe2e",
   "metadata": {},
   "source": [
    "Ignoring the nulls in columns age and fee as they won't have a serious effect on analysis.\n",
    "Analysis in the fee_cleaned column will be limited/abandoned as it has too many nulls and cannot be dropped."
   ]
  },
  {
   "cell_type": "code",
   "execution_count": null,
   "id": "7254ba77",
   "metadata": {},
   "outputs": [
    {
     "ename": "",
     "evalue": "",
     "output_type": "error",
     "traceback": [
      "\u001b[1;31mFailed to start the Kernel. \n",
      "\u001b[1;31mUnable to start Kernel 'Python 3.10.9' due to connection timeout. \n",
      "\u001b[1;31mView Jupyter <a href='command:jupyter.viewOutput'>log</a> for further details."
     ]
    }
   ],
   "source": [
    "#transfer window column having three values instead of the standard two\n",
    "transfer['transfer_period'].unique()\n"
   ]
  },
  {
   "cell_type": "code",
   "execution_count": null,
   "id": "b0940206",
   "metadata": {},
   "outputs": [
    {
     "ename": "",
     "evalue": "",
     "output_type": "error",
     "traceback": [
      "\u001b[1;31mFailed to start the Kernel. \n",
      "\u001b[1;31mUnable to start Kernel 'Python 3.10.9' due to connection timeout. \n",
      "\u001b[1;31mView Jupyter <a href='command:jupyter.viewOutput'>log</a> for further details."
     ]
    }
   ],
   "source": [
    "transfer['transfer_period'].replace('summer', 'Summer' , inplace = True)"
   ]
  },
  {
   "cell_type": "code",
   "execution_count": null,
   "id": "9f31d499",
   "metadata": {},
   "outputs": [
    {
     "ename": "",
     "evalue": "",
     "output_type": "error",
     "traceback": [
      "\u001b[1;31mFailed to start the Kernel. \n",
      "\u001b[1;31mUnable to start Kernel 'Python 3.10.9' due to connection timeout. \n",
      "\u001b[1;31mView Jupyter <a href='command:jupyter.viewOutput'>log</a> for further details."
     ]
    }
   ],
   "source": [
    "transfer['transfer_period'].unique()"
   ]
  },
  {
   "cell_type": "code",
   "execution_count": null,
   "id": "2ca02f1d",
   "metadata": {},
   "outputs": [
    {
     "ename": "",
     "evalue": "",
     "output_type": "error",
     "traceback": [
      "\u001b[1;31mFailed to start the Kernel. \n",
      "\u001b[1;31mUnable to start Kernel 'Python 3.10.9' due to connection timeout. \n",
      "\u001b[1;31mView Jupyter <a href='command:jupyter.viewOutput'>log</a> for further details."
     ]
    }
   ],
   "source": [
    "#checking that club names have no numeric data\n",
    "transfer.club_name.str.isnumeric().sum()"
   ]
  },
  {
   "cell_type": "markdown",
   "id": "edd04b94",
   "metadata": {},
   "source": [
    "Some player positions are not specific - it doesn't state what part of the defence, attack or midfield it is.\n",
    "In analysis, instead of analysing by distinct positions, analysis would be carried out by the four major postions - goalkeeping, defence, midfield and attack."
   ]
  },
  {
   "cell_type": "code",
   "execution_count": null,
   "id": "3429d01f",
   "metadata": {},
   "outputs": [
    {
     "ename": "",
     "evalue": "",
     "output_type": "error",
     "traceback": [
      "\u001b[1;31mFailed to start the Kernel. \n",
      "\u001b[1;31mUnable to start Kernel 'Python 3.10.9' due to connection timeout. \n",
      "\u001b[1;31mView Jupyter <a href='command:jupyter.viewOutput'>log</a> for further details."
     ]
    }
   ],
   "source": [
    "#highlighting all distinct positions, some positions are vague and not specific - 'defence', 'attack', 'midfield'\n",
    "transfer.position.unique()"
   ]
  },
  {
   "cell_type": "code",
   "execution_count": null,
   "id": "2cd586dc",
   "metadata": {},
   "outputs": [
    {
     "ename": "",
     "evalue": "",
     "output_type": "error",
     "traceback": [
      "\u001b[1;31mFailed to start the Kernel. \n",
      "\u001b[1;31mUnable to start Kernel 'Python 3.10.9' due to connection timeout. \n",
      "\u001b[1;31mView Jupyter <a href='command:jupyter.viewOutput'>log</a> for further details."
     ]
    }
   ],
   "source": [
    "#creating age group column from age column\n",
    "#finding maximum age first, so as to know range of bins and cover all ages.\n",
    "transfer.age.max()"
   ]
  },
  {
   "cell_type": "code",
   "execution_count": null,
   "id": "fbb3b398",
   "metadata": {},
   "outputs": [
    {
     "ename": "",
     "evalue": "",
     "output_type": "error",
     "traceback": [
      "\u001b[1;31mFailed to start the Kernel. \n",
      "\u001b[1;31mUnable to start Kernel 'Python 3.10.9' due to connection timeout. \n",
      "\u001b[1;31mView Jupyter <a href='command:jupyter.viewOutput'>log</a> for further details."
     ]
    }
   ],
   "source": [
    "#creating age group from 0-50 in group of 5s\n",
    "agegroup_bins = [0, 5, 10, 15, 20, 25, 30, 35, 40, 45, 50]\n",
    "agegroup_labels = ['0-5', '6-10', '11-15', '16-20', '21-25', '26-30', '31-35', '36-40', '41-45', '46-50']\n",
    "transfer['age_group'] = pd.cut(x = transfer['age'], bins = agegroup_bins, labels = agegroup_labels)"
   ]
  },
  {
   "cell_type": "code",
   "execution_count": null,
   "id": "6720d829",
   "metadata": {},
   "outputs": [
    {
     "ename": "",
     "evalue": "",
     "output_type": "error",
     "traceback": [
      "\u001b[1;31mFailed to start the Kernel. \n",
      "\u001b[1;31mUnable to start Kernel 'Python 3.10.9' due to connection timeout. \n",
      "\u001b[1;31mView Jupyter <a href='command:jupyter.viewOutput'>log</a> for further details."
     ]
    }
   ],
   "source": [
    "transfer.head()"
   ]
  },
  {
   "cell_type": "markdown",
   "id": "47136a95",
   "metadata": {},
   "source": [
    "Exploratory Data Analysis (EDA)"
   ]
  },
  {
   "cell_type": "code",
   "execution_count": null,
   "id": "a6f2251d",
   "metadata": {},
   "outputs": [
    {
     "ename": "",
     "evalue": "",
     "output_type": "error",
     "traceback": [
      "\u001b[1;31mFailed to start the Kernel. \n",
      "\u001b[1;31mUnable to start Kernel 'Python 3.10.9' due to connection timeout. \n",
      "\u001b[1;31mView Jupyter <a href='command:jupyter.viewOutput'>log</a> for further details."
     ]
    }
   ],
   "source": [
    "#Busiest clubs in the transfer window -- number of transfers involved in\n",
    "transfer['club_name'].value_counts(ascending= False).nlargest(10)"
   ]
  },
  {
   "cell_type": "code",
   "execution_count": null,
   "id": "d469f9b6",
   "metadata": {},
   "outputs": [
    {
     "ename": "",
     "evalue": "",
     "output_type": "error",
     "traceback": [
      "\u001b[1;31mFailed to start the Kernel. \n",
      "\u001b[1;31mUnable to start Kernel 'Python 3.10.9' due to connection timeout. \n",
      "\u001b[1;31mView Jupyter <a href='command:jupyter.viewOutput'>log</a> for further details."
     ]
    }
   ],
   "source": [
    "#Clubs with the most buys in the transfer window\n",
    "transfer[['club_name', 'transfer_movement']][transfer[\"transfer_movement\"] == \"in\"].groupby('club_name').value_counts(ascending= False).nlargest(10)"
   ]
  },
  {
   "cell_type": "code",
   "execution_count": null,
   "id": "e3babd2d",
   "metadata": {},
   "outputs": [
    {
     "ename": "",
     "evalue": "",
     "output_type": "error",
     "traceback": [
      "\u001b[1;31mFailed to start the Kernel. \n",
      "\u001b[1;31mUnable to start Kernel 'Python 3.10.9' due to connection timeout. \n",
      "\u001b[1;31mView Jupyter <a href='command:jupyter.viewOutput'>log</a> for further details."
     ]
    }
   ],
   "source": [
    "#Clubs with the least buys in the transfer window\n",
    "transfer[['club_name', 'transfer_movement']][transfer[\"transfer_movement\"] == \"in\"].groupby('club_name').value_counts(ascending= False).nsmallest(5)"
   ]
  },
  {
   "cell_type": "code",
   "execution_count": null,
   "id": "ae97074c",
   "metadata": {},
   "outputs": [
    {
     "ename": "",
     "evalue": "",
     "output_type": "error",
     "traceback": [
      "\u001b[1;31mFailed to start the Kernel. \n",
      "\u001b[1;31mUnable to start Kernel 'Python 3.10.9' due to connection timeout. \n",
      "\u001b[1;31mView Jupyter <a href='command:jupyter.viewOutput'>log</a> for further details."
     ]
    }
   ],
   "source": [
    "#Clubs with the most sales in the transfer window\n",
    "transfer[['club_name', 'transfer_movement']][transfer[\"transfer_movement\"] == \"out\"].groupby('club_name').value_counts(ascending= False).nlargest(10)"
   ]
  },
  {
   "cell_type": "code",
   "execution_count": null,
   "id": "8fe55e61",
   "metadata": {},
   "outputs": [
    {
     "ename": "",
     "evalue": "",
     "output_type": "error",
     "traceback": [
      "\u001b[1;31mFailed to start the Kernel. \n",
      "\u001b[1;31mUnable to start Kernel 'Python 3.10.9' due to connection timeout. \n",
      "\u001b[1;31mView Jupyter <a href='command:jupyter.viewOutput'>log</a> for further details."
     ]
    }
   ],
   "source": [
    "#Clubs with the least sales in the transfer window\n",
    "transfer[['club_name', 'transfer_movement']][transfer[\"transfer_movement\"] == \"out\"].groupby('club_name').value_counts(ascending= False).nsmallest(5)"
   ]
  },
  {
   "cell_type": "code",
   "execution_count": null,
   "id": "6a973b9a",
   "metadata": {},
   "outputs": [
    {
     "ename": "",
     "evalue": "",
     "output_type": "error",
     "traceback": [
      "\u001b[1;31mFailed to start the Kernel. \n",
      "\u001b[1;31mUnable to start Kernel 'Python 3.10.9' due to connection timeout. \n",
      "\u001b[1;31mView Jupyter <a href='command:jupyter.viewOutput'>log</a> for further details."
     ]
    }
   ],
   "source": [
    "#Number Of Transfers by year\n",
    "transfer['year'].value_counts().nlargest(5)"
   ]
  },
  {
   "cell_type": "code",
   "execution_count": null,
   "id": "21f2839f",
   "metadata": {},
   "outputs": [
    {
     "ename": "",
     "evalue": "",
     "output_type": "error",
     "traceback": [
      "\u001b[1;31mFailed to start the Kernel. \n",
      "\u001b[1;31mUnable to start Kernel 'Python 3.10.9' due to connection timeout. \n",
      "\u001b[1;31mView Jupyter <a href='command:jupyter.viewOutput'>log</a> for further details."
     ]
    }
   ],
   "source": [
    "# Plotting transfers over time \n",
    "tot = transfer.groupby('year').size()\n",
    "tot.plot(kind = 'line', figsize= (10,8) )\n",
    "plt.title('Transfers over time')\n",
    "plt.xlabel('Year')\n",
    "plt.ylabel('Number Of Transfers')\n"
   ]
  },
  {
   "cell_type": "code",
   "execution_count": null,
   "id": "1ecad717",
   "metadata": {},
   "outputs": [
    {
     "ename": "",
     "evalue": "",
     "output_type": "error",
     "traceback": [
      "\u001b[1;31mFailed to start the Kernel. \n",
      "\u001b[1;31mUnable to start Kernel 'Python 3.10.9' due to connection timeout. \n",
      "\u001b[1;31mView Jupyter <a href='command:jupyter.viewOutput'>log</a> for further details."
     ]
    }
   ],
   "source": [
    "transfer['year'].hist(bins = 31)\n",
    "plt.show()"
   ]
  },
  {
   "cell_type": "code",
   "execution_count": null,
   "id": "b1704c08",
   "metadata": {},
   "outputs": [
    {
     "ename": "",
     "evalue": "",
     "output_type": "error",
     "traceback": [
      "\u001b[1;31mFailed to start the Kernel. \n",
      "\u001b[1;31mUnable to start Kernel 'Python 3.10.9' due to connection timeout. \n",
      "\u001b[1;31mView Jupyter <a href='command:jupyter.viewOutput'>log</a> for further details."
     ]
    }
   ],
   "source": [
    "#Transfer over time by window\n",
    "#tot = transfer.groupby('year')['transfer_period'].size()\n",
    "#tot.plot(kind = 'line')\n",
    "#plt.legend([transfer['transfer_period'] == 'Summer', transfer['transfer_period'] == 'Winter'])\n",
    "#plt.legend(['Summer', 'Winter'])"
   ]
  },
  {
   "cell_type": "code",
   "execution_count": null,
   "id": "9f1d367b",
   "metadata": {},
   "outputs": [
    {
     "ename": "",
     "evalue": "",
     "output_type": "error",
     "traceback": [
      "\u001b[1;31mFailed to start the Kernel. \n",
      "\u001b[1;31mUnable to start Kernel 'Python 3.10.9' due to connection timeout. \n",
      "\u001b[1;31mView Jupyter <a href='command:jupyter.viewOutput'>log</a> for further details."
     ]
    }
   ],
   "source": [
    "#Transfers by Age Group\n",
    "transfer_by_age_group = transfer.groupby('age_group').size()\n",
    "transfer_by_age_group.plot(kind = 'bar')\n",
    "plt.title('Transfers By Age Group')\n",
    "plt.xlabel('Age Group')\n",
    "plt.ylabel('Number Of Transfers')\n",
    "plt.show()"
   ]
  },
  {
   "cell_type": "code",
   "execution_count": null,
   "id": "2c687170",
   "metadata": {},
   "outputs": [
    {
     "ename": "",
     "evalue": "",
     "output_type": "error",
     "traceback": [
      "\u001b[1;31mFailed to start the Kernel. \n",
      "\u001b[1;31mUnable to start Kernel 'Python 3.10.9' due to connection timeout. \n",
      "\u001b[1;31mView Jupyter <a href='command:jupyter.viewOutput'>log</a> for further details."
     ]
    }
   ],
   "source": [
    "#Number Of PL Clubs involved\n",
    "transfer.club_name.nunique()"
   ]
  },
  {
   "cell_type": "code",
   "execution_count": null,
   "id": "3c1388f8",
   "metadata": {},
   "outputs": [
    {
     "ename": "",
     "evalue": "",
     "output_type": "error",
     "traceback": [
      "\u001b[1;31mFailed to start the Kernel. \n",
      "\u001b[1;31mUnable to start Kernel 'Python 3.10.9' due to connection timeout. \n",
      "\u001b[1;31mView Jupyter <a href='command:jupyter.viewOutput'>log</a> for further details."
     ]
    }
   ],
   "source": [
    "#Transfers by Position\n",
    "transfers_by_position = transfer.groupby('position').size().sort_values(ascending=False)\n",
    "transfers_by_position.plot(kind = 'bar', title = 'Transfers By Position')\n",
    "plt.xlabel('Position')\n",
    "plt.ylabel('Number Of Transfers')\n",
    "plt.show()"
   ]
  },
  {
   "cell_type": "code",
   "execution_count": null,
   "id": "11229c63",
   "metadata": {},
   "outputs": [
    {
     "ename": "",
     "evalue": "",
     "output_type": "error",
     "traceback": [
      "\u001b[1;31mFailed to start the Kernel. \n",
      "\u001b[1;31mUnable to start Kernel 'Python 3.10.9' due to connection timeout. \n",
      "\u001b[1;31mView Jupyter <a href='command:jupyter.viewOutput'>log</a> for further details."
     ]
    }
   ],
   "source": [
    "#Classifying Transfers by a more broad position (Just 4 positions - Defence, Forward, Goalkeeping and Midfield)\n",
    "Forward_positions = ['Centre-Forward', 'Right Winger', 'Left Winger', 'Second Striker', 'attack']\n",
    "Defensive_positions = ['Centre-back', 'Right-Back', 'Left-Back', 'defence']\n",
    "def broad_p(row):\n",
    "    if row['position'] == Forward_positions:\n",
    "        val = 'Forward'\n",
    "    elif row['position'] == 'Goalkeeper':\n",
    "        val = 'Goalkeeping'\n",
    "    elif row['position'] == Defensive_positions:\n",
    "        val = 'Defence'\n",
    "    else:\n",
    "        val = 'Midfield' \n",
    "    return val\n",
    "transfer['player_position'] = transfer.apply(broad_p, axis = 1)\n"
   ]
  },
  {
   "cell_type": "code",
   "execution_count": null,
   "id": "87af1107",
   "metadata": {},
   "outputs": [
    {
     "ename": "",
     "evalue": "",
     "output_type": "error",
     "traceback": [
      "\u001b[1;31mFailed to start the Kernel. \n",
      "\u001b[1;31mUnable to start Kernel 'Python 3.10.9' due to connection timeout. \n",
      "\u001b[1;31mView Jupyter <a href='command:jupyter.viewOutput'>log</a> for further details."
     ]
    }
   ],
   "source": [
    "#Clubs with buy and sell from themselves the most\n"
   ]
  }
 ],
 "metadata": {
  "kernelspec": {
   "display_name": "Python 3",
   "language": "python",
   "name": "python3"
  },
  "language_info": {
   "codemirror_mode": {
    "name": "ipython",
    "version": 3
   },
   "file_extension": ".py",
   "mimetype": "text/x-python",
   "name": "python",
   "nbconvert_exporter": "python",
   "pygments_lexer": "ipython3",
   "version": "3.10.9 (tags/v3.10.9:1dd9be6, Dec  6 2022, 20:01:21) [MSC v.1934 64 bit (AMD64)]"
  },
  "vscode": {
   "interpreter": {
    "hash": "44552d87d7f633faf706aa64f2ecba15955ddfa8404cc56e2890b1093a263a43"
   }
  }
 },
 "nbformat": 4,
 "nbformat_minor": 5
}
